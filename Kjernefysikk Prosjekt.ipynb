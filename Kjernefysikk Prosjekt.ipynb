{
 "cells": [
  {
   "cell_type": "markdown",
   "metadata": {},
   "source": [
    "# Prosjekt i kjernefysikk\n",
    "### Erlend og Eivind"
   ]
  },
  {
   "cell_type": "markdown",
   "metadata": {},
   "source": [
    "I vårt energikrevende samfunn, blir vi stadig mer og mer avhengig av nye metoder å utvinne energi på. En ny og spennende mulighet, er å utvinne energi ved hjelp av kjernefysikk. Dette kan gjøres ved fisjon (spaltning av tyngre atomer til lettere atomer), fusjon (smelte sammen to lettere atomer til ett tyngre) og radioaktive prosesser. "
   ]
  },
  {
   "cell_type": "markdown",
   "metadata": {},
   "source": [
    "I følge Einstein sin berømte-masse energi lov:\n",
    "\n",
    "$E=mc^2$ , der m er masse(endring) og c er lysets hastighet,\n",
    "\n",
    "vil kun en liten masseendring føre til en massiv energiendring. Dette kan vi utnytte ved fisjon, fusjon eller radiaktive prosesser. Måten vi gjør det på er å ta den sammenlagte massen målt i kg på venstre side av reaksjonspila, minus den sammenlagte summen av stoffene på høyre side målt i kg, og ganger dette med kvadratet av lysets hastighet."
   ]
  },
  {
   "cell_type": "markdown",
   "metadata": {},
   "source": [
    "Nå som det teoretiske er unnagjort, kan vi begynne med å se på koden:"
   ]
  },
  {
   "cell_type": "code",
   "execution_count": 1,
   "metadata": {},
   "outputs": [],
   "source": [
    "# Vi starter med å importere pylab\n",
    "import pylab as pl"
   ]
  },
  {
   "cell_type": "code",
   "execution_count": 2,
   "metadata": {},
   "outputs": [],
   "source": [
    "# Deklarerer variabler vi skal bruke i programmet utenom inputs fra brukeren\n",
    "a_n = []    # tom liste vi skal lagre alle atomnumrene i\n",
    "m_n = []    # tom liste vi skal lagre alle nukleontallene i\n",
    "r_m = []    # tom liste vi skal lagre all relativ masse i\n",
    "isotoper = {}     # tom dictionary der vi skal lagre hvert stoff med tilsvarende a_n, m_n og r_m som en liste i\n",
    "count1 = 0            # to counter vi skal bruke for å sjekke om brukeren taster inn et stoff som finnes \n",
    "count2 = 0\n",
    "massevenstre = []     # to lister som vi skal lagre r_m i for stoffene brukeren har oppgitt\n",
    "massehoyre = []\n",
    "c = 299792458         # m/s\n",
    "noytron = 1.008665    # massen til ett nøytron, u"
   ]
  },
  {
   "cell_type": "markdown",
   "metadata": {},
   "source": [
    "Datasettet vårt besto av tall og tekst, så vi valgte å bruke python sine innebygde funksjoner for databehandling:"
   ]
  },
  {
   "cell_type": "code",
   "execution_count": 3,
   "metadata": {},
   "outputs": [],
   "source": [
    "nuklider = open('Nuklider.txt', 'r')   # åpner og leser tekstfilen"
   ]
  },
  {
   "cell_type": "markdown",
   "metadata": {},
   "source": [
    "Nå skal vi rydde i datasettet vårt. Vi startet med å først bare søke og erstatte noen ord i et tekstendring-program, slik som TextEdit. Dette gjorde vi for å gjøre det lettere å søke etter nøkkelord når vi rydder i listen. Datasettet ser nå slik ut:"
   ]
  },
  {
   "cell_type": "markdown",
   "metadata": {},
   "source": [
    "![Vårt datasett](datasett.png)"
   ]
  },
  {
   "cell_type": "markdown",
   "metadata": {},
   "source": [
    "Vi skal dele hver rad, og lagre hvert element i raden i en liste. Dette skjer i en for loop. Deretter ønsker vi å sjekke om 'A_N', 'M_N' eller 'Relative' er i den listen vi undersøker. Dersom det er sant, skal den legge til den tilsvarende verdien i riktig liste. Hvis vi bruker første liste som eksempel, ser vi at raden inneholder 'A_N'. Dette tilsvarer indeks 0 i lista. Den tilsvarende verdien er 1, som er indeks 2 i lista, siden likhetstegnet er indeks 1. Dette gjelder for alle lister som inneholder 'A_N', slik som at nukleontallet er indeks 2 for alle lister som inneholder 'M_N' og at den relative massen er indeks 4 for hver liste som inneholder 'Relative'. \n",
    "\n",
    "Det .split() kommandoen gjør, er egentlig at den deler hver gang det er mellomrom. Hvis vi bruker en for-løkke, vil vi kunne sjekke og splitte hver rad.  "
   ]
  },
  {
   "cell_type": "code",
   "execution_count": 4,
   "metadata": {},
   "outputs": [],
   "source": [
    "for rad in nuklider:        # for hver rad i nuklider...\n",
    "    data = rad.split()      # splitt hver rad og legg hvert element i en rad i en liste\n",
    "    if 'A_N' in data:       # dersom A_N finnes i lista den undersøker, legg til indeks 2 i atomnummer lista. \n",
    "        a_n.append(int(data[2]))\n",
    "    if 'M_N' in data:       # dersom M_N finnes i lista den undersøker, legg til indeks 2 i nukleontall lista.\n",
    "        m_n.append(int(data[2]))\n",
    "    if 'Relative' in data:  # dersom lengden av en liste som inneholder 'Relative' ikke er 5, så legg til 0. \n",
    "        if len(data) != 5:\n",
    "            data.append('0')\n",
    "        r_m.append(float(data[4])) # legg til indeks 4 i relativ masse-listen.\n",
    "        \n",
    "nuklider.close()  # lukker fila"
   ]
  },
  {
   "cell_type": "markdown",
   "metadata": {},
   "source": [
    "Nå skal vi lagre hvert stoff med verdiene vi er interessert i, i en liste. Det skal vi gjøre ved hjelp en for-løkke og en dictionary. I en dictionary lager man en 'key' som man kan lagre data til. Vår plan er å lage et x antall lister, avhengig av lengden til a_n = m_n = r_m. Måten vi gjør det på er å lage en for-løkke, der vi kaller 'key-en' for stoff_i, der i kommer til å øke for hver gang løkken kjører. Dette skal vi sette lik en liste med a_n[i], m_n[i] og r_m[i]. Dette gjør at vi kan lage et uendelig antall lister. a_n[i], m_n[i] og r_m[i] vil tilhøre samme isotop, siden vi i forrige for-løkke sjekker i kronologisk rekkefølge. "
   ]
  },
  {
   "cell_type": "code",
   "execution_count": 5,
   "metadata": {},
   "outputs": [],
   "source": [
    "# bruker isotoper dictionarien vi definerte tidligere\n",
    "for i in range(len(a_n)):\n",
    "    isotoper['gstoff/iso_%s' % i] = [a_n[i], m_n[i], r_m[i]] # lager et i antall keys og lister"
   ]
  },
  {
   "cell_type": "markdown",
   "metadata": {},
   "source": [
    "Slik vil en tilfeldig valgt key/liste se ut:\n",
    "\n",
    "### Key/liste\n",
    "![isotop](isotop_3105.png)\n",
    "\n",
    "### Faktiske verdi\n",
    "![teoretisk](atomnummer109.png)\n",
    "\n",
    "Som vi ser er de like. Dette skal vi bruke senere i programmet til å hente ut den relative massen."
   ]
  },
  {
   "cell_type": "markdown",
   "metadata": {},
   "source": [
    "Nå skal vi starte med inputs fra brukeren."
   ]
  },
  {
   "cell_type": "code",
   "execution_count": 6,
   "metadata": {},
   "outputs": [
    {
     "name": "stdout",
     "output_type": "stream",
     "text": [
      "Hvor mange stoffer har du på venstre side av reaksjonspila? 0\n",
      "Du må ha minst et stoff!\n",
      "Hvor mange stoffer har du på venstre side av reaksjonspila? 2\n",
      "Hvor mange stoffer har du på høyre side av reaksjonspila? 0\n",
      "Du må ha minst et stoff!\n",
      "Hvor mange stoffer har du på høyre side av reaksjonspila? -1\n",
      "Du må ha minst et stoff!\n",
      "Hvor mange stoffer har du på høyre side av reaksjonspila? 1\n"
     ]
    }
   ],
   "source": [
    "# definerer variabler som input, og gjør om til heltall, integerer\n",
    "while True:\n",
    "    venstre = int(input(\"Hvor mange stoffer har du på venstre side av reaksjonspila? \"))\n",
    "    if venstre > 0:\n",
    "        break\n",
    "    else:\n",
    "        print (\"Du må ha minst et stoff!\")\n",
    "\n",
    "while True:\n",
    "    hoyre = int(input(\"Hvor mange stoffer har du på høyre side av reaksjonspila? \"))\n",
    "    if hoyre > 0:\n",
    "        break\n",
    "    else: \n",
    "        print (\"Du må ha minst et stoff!\")"
   ]
  },
  {
   "cell_type": "code",
   "execution_count": 7,
   "metadata": {},
   "outputs": [
    {
     "name": "stdout",
     "output_type": "stream",
     "text": [
      "Hva er atomnummeret til stoff 1 på venstre side? 1\n",
      "Hva er nukelontallet til stoff 1 på venstre side? 9\n",
      "\n",
      "Dette stoffe finnes ikke, skriv inn et annet stoff.\n",
      "Hva er atomnummeret til stoff 1 på venstre side? 1\n",
      "Hva er nukelontallet til stoff 1 på venstre side? 2\n",
      "Hva er atomnummeret til stoff 2 på venstre side? 1\n",
      "Hva er nukelontallet til stoff 2 på venstre side? 500\n",
      "\n",
      "Dette stoffet finnes ikke, skriv inn et annet stoff.\n",
      "Hva er atomnummeret til stoff 2 på venstre side? 1\n",
      "Hva er nukelontallet til stoff 2 på venstre side? 2\n"
     ]
    }
   ],
   "source": [
    "while count1 < venstre:\n",
    "    i = 1\n",
    "    while i < venstre+1:\n",
    "        numv = int(input(\"Hva er atomnummeret til stoff %s på venstre side? \" % i)) # inputs\n",
    "        nukv = int(input(\"Hva er nukelontallet til stoff %s på venstre side? \" % i))\n",
    "        if (numv in a_n) and (nukv in m_n):\n",
    "            for liste in isotoper:   # for hver liste i isotoper:\n",
    "                if numv == isotoper[liste][0]:\n",
    "                    if nukv == isotoper[liste][1]:\n",
    "                        rmassev = isotoper[liste]\n",
    "                        if 0 in rmassev: # her får vi bruk for at vi appendet 0 til stoffene som ikke hadde en relativ masse\n",
    "                            print (\"\\nVi har ikke massen til stoffet med atomnummer\", rmassev[0], \"og nukleontallet\", rmassev[1])\n",
    "                            print (\"Skriv inn et nytt stoff.\")\n",
    "                            break\n",
    "                        else:  # dersom stoffet finnes, gjør dette\n",
    "                            massevenstre.append(rmassev[2])\n",
    "                            i += 1\n",
    "                            count1 += 1\n",
    "                            break\n",
    "                elif numv < isotoper[liste][0]: # effektiv måte å sjekke om stoffet finnes!\n",
    "                    print (\"\\nDette stoffe finnes ikke, skriv inn et annet stoff.\")\n",
    "                    break\n",
    "        else:\n",
    "            print (\"\\nDette stoffet finnes ikke, skriv inn et annet stoff.\")"
   ]
  },
  {
   "cell_type": "markdown",
   "metadata": {},
   "source": [
    "Det vi har gjort i koden over, er essensielt å ha laget en for-løkke ved hjelp av while-løkker, der 'i' kun øker dersom en if-test er sann. Vi starter med en while-løkke som skal kjøre helt til count1 = venstre. Så definerer vi 'i = 1' (bare slik at programmet spør om stoff 1 og ikke stoff 0). Deretter starter vi en ny while-løkke, som skal kjøre til 'i = venstre+1'. Inni løkken lagrer vi brukerens input i en variabel, og sjekker om inputet finnes i atomnummer- og nukelontall-listen. Deretter sjekker vi om disse stoffene faktisk finnes. Det gjør vi ved en for-loop. \n",
    "\n",
    "Inni loopen sjekker vi først om atomnummeret fra brukeren er lik indeks 0 (atomnummeret) i en liste fra isotoper-dictionarien. Dersom dette stemmer, sjekker vi om nukleontallet som brukeren oppga finnes i samme liste. Om dette også er sant, lagrer vi listen som en variabel som vi kan hente ut indeks fra. Vi sjekker også om tallet 0 er i denne listen, dersom det er det, har vi ikke massen og brukeren bes å skrive inn et annet stoff. Om det ikke er det, legges massen til i en egen liste for venstre siden, i og counten øker med 1. \n",
    "\n",
    "Dersom brukerens atomnummeret ikke stemmer med listen vi sjekker, tester vi om numv er mindre enn indeks 0 til den listen vi sjekker. Dersom den er det, har brukeren skrevet et stoff som ikke finnes, og bes om å skrive inn et nytt stoff. Samme måte brukes for å sjekke stoffene til høyre siden. \n",
    "\n",
    "\"Break\" brukes til å bryte for-loopen, slik at man kan starte på nytt med inputs. "
   ]
  },
  {
   "cell_type": "code",
   "execution_count": 8,
   "metadata": {},
   "outputs": [
    {
     "name": "stdout",
     "output_type": "stream",
     "text": [
      "Hva er atomnummert til stoff 1 på høyre side? 4\n",
      "Hva er nukleontallet til stoff 1 på høyre side? 2\n",
      "\n",
      "Dette stoffet finnes ikke, skriv inn et annet stoff.\n",
      "Hva er atomnummert til stoff 1 på høyre side? 2\n",
      "Hva er nukleontallet til stoff 1 på høyre side? 4\n"
     ]
    }
   ],
   "source": [
    "while count2 < hoyre:\n",
    "    i = 1\n",
    "    while i < hoyre+1:\n",
    "        numh = int(input(\"Hva er atomnummeret til stoff %s på høyre side? \" % i))\n",
    "        nukh = int(input(\"Hva er nukleontallet til stoff %s på høyre side? \" % i))\n",
    "        if (numh in a_n) and (nukh in m_n):\n",
    "            for liste in isotoper:\n",
    "                if numh == isotoper[liste][0]:\n",
    "                    if nukh == isotoper[liste][1]:\n",
    "                        rmasseh = isotoper[liste]\n",
    "                        if 0 in rmasseh:\n",
    "                            print (\"\\nVi har ikke massen til stoffet med atomnummer\", rmassev[0], \"og nukleontallet\", rmassev[1])\n",
    "                            print (\"Skriv inn et nytt stoff.\")\n",
    "                            break\n",
    "                        else:\n",
    "                            massehoyre.append(rmasseh[2])\n",
    "                            i += 1\n",
    "                            count2 += 1\n",
    "                            break\n",
    "                elif numh < isotoper[liste][0]:\n",
    "                    print (\"\\nDette stoffet finnes ikke, skriv inn et annet stoff.\")\n",
    "                    break\n",
    "        else:\n",
    "            print (\"\\nDette stoffet finnes ikke, skriv inn et annet stoff.\")"
   ]
  },
  {
   "cell_type": "code",
   "execution_count": 9,
   "metadata": {},
   "outputs": [
    {
     "name": "stdout",
     "output_type": "stream",
     "text": [
      "Hvor mange nøytroner skytes på reaktantene? 0\n",
      "Hvor mange nøytroner frigjøres i reaksjonen? 0\n"
     ]
    }
   ],
   "source": [
    "# nøytroner kommer inn i bildet\n",
    "noytronerv = float(input(\"Hvor mange nøytroner skytes på reaktantene? \"))\n",
    "noytronerh = float(input(\"Hvor mange nøytroner frigjøres i reaksjonen? \"))\n",
    "\n",
    "# totale massen til nøytronene på venstre og høyre side\n",
    "massenoytronvenstre = noytron*noytronerv\n",
    "massenoytronhoyre = noytron*noytronerh\n",
    "\n",
    "# legger til massen til nukleonene inn i de totale masse-listene\n",
    "massevenstre.append(massenoytronvenstre)\n",
    "massehoyre.append(massenoytronhoyre)\n",
    "\n",
    "# gjør listene til array, og summerer de for å få den totale massen, målt i u\n",
    "sumvenstre = sum(pl.array(massevenstre))\n",
    "sumhoyre = sum(pl.array(massehoyre))"
   ]
  },
  {
   "cell_type": "code",
   "execution_count": 10,
   "metadata": {},
   "outputs": [],
   "source": [
    "# definerer en funksjon som regner ut energien som frigis/tas opp\n",
    "def masseenergi(m_v, m_h, c):\n",
    "    E = (((m_v - m_h)*(1.660539*10**(-27))) * c**2)*10**12   # gjør om til pikojoule\n",
    "    if E < 0:\n",
    "        print (\"\\nEnergien som må tas opp er:\", abs(E), \"pJ.\")\n",
    "    elif E > 0:\n",
    "        print (\"\\nEnergien som frigis er:\", E, \"pJ.\")\n",
    "    else:\n",
    "        print (\"\\nMassen på høyre og venstre side er lik, så energien er lik 0!\")\n",
    "    return;"
   ]
  },
  {
   "cell_type": "code",
   "execution_count": 11,
   "metadata": {},
   "outputs": [
    {
     "name": "stdout",
     "output_type": "stream",
     "text": [
      "\n",
      "Energien som frigis er: 3.820635145891129 pJ.\n"
     ]
    }
   ],
   "source": [
    "# kaller funksjonen\n",
    "masseenergi(sumvenstre, sumhoyre, c)"
   ]
  },
  {
   "cell_type": "markdown",
   "metadata": {},
   "source": [
    "### Litt tanker om samarbeid og refleksjon av arbeidet"
   ]
  },
  {
   "cell_type": "markdown",
   "metadata": {},
   "source": [
    "Samarbeidet under oppgaven kunne muligens vært litt bedre. På skolen jobbet vi sammen med problemløsning og ideer for programmet. Erlend er den beste til å programmere av oss to, og tok naturligvis av seg jobben med å gjøre nettopp dette. Oppgaven kunne ikke løses på skolen alene, så Erlend fortsatte med programmet sitt hjemme. Vi snakket også sammen på nettet for å jobbe litt sammen. Da vi hadde tenkt å si oss ferdig, gikk vi begge gjennom programmet sammen for å finne feil, foreslå bedre løsninger, og idiotsikre programmet, ettersom det skulle være et brukervennlig program. Diskusjonen resluterte i at vi endret på noe kode. Vi fant også sammen, måter vi kunne gjøre programmet mer lesbart og enklere, mer effektiv kode.\n",
    "\n",
    "Det er definitivt enklere måter å løse denne oppgaven på, men vi er fornøyde med tanke på våre programmeringsferdigheter, og vi synes vi har funnet relativt gode og effektive løsninger på problemstillingen. Etter presentasjonene, fikk vi innsikt i andre måter vi kunne ha løst oppgaven, hvor en av de var å gjøre om atomnumrene, nukleontallene og den relative massen til en DataFrame, som vi mye lettere kunne hentet ut data fra. Men som sagt, føler vi oss ganske fornøyde med måten vi løste oppgaven på. \n",
    "\n",
    "Sånn som det er nå, er vi litt usikre på hvordan man skal gjøre det slik at man slipper å restarte kernelen for å kjøre programmet på nytt, for det er situasjonen nå. Programmet er nok bedre optimalisert for Spyder enn det er for Jupyter. "
   ]
  },
  {
   "cell_type": "code",
   "execution_count": null,
   "metadata": {},
   "outputs": [],
   "source": []
  }
 ],
 "metadata": {
  "kernelspec": {
   "display_name": "Python 3",
   "language": "python",
   "name": "python3"
  },
  "language_info": {
   "codemirror_mode": {
    "name": "ipython",
    "version": 3
   },
   "file_extension": ".py",
   "mimetype": "text/x-python",
   "name": "python",
   "nbconvert_exporter": "python",
   "pygments_lexer": "ipython3",
   "version": "3.6.5"
  }
 },
 "nbformat": 4,
 "nbformat_minor": 2
}
